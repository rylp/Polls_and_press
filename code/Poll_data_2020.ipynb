{
 "cells": [
  {
   "cell_type": "markdown",
   "metadata": {
    "toc": true
   },
   "source": [
    "<h1>Table of Contents<span class=\"tocSkip\"></span></h1>\n",
    "<div class=\"toc\"><ul class=\"toc-item\"><li><span><a href=\"#Establish-programming-components\" data-toc-modified-id=\"Establish-programming-components-1\"><span class=\"toc-item-num\">1&nbsp;&nbsp;</span>Establish programming components</a></span><ul class=\"toc-item\"><li><span><a href=\"#Import-libraries\" data-toc-modified-id=\"Import-libraries-1.1\"><span class=\"toc-item-num\">1.1&nbsp;&nbsp;</span>Import libraries</a></span></li></ul></li></ul></div>"
   ]
  },
  {
   "cell_type": "markdown",
   "metadata": {},
   "source": [
    "# Establish programming components"
   ]
  },
  {
   "cell_type": "markdown",
   "metadata": {},
   "source": [
    "## Import libraries"
   ]
  },
  {
   "cell_type": "code",
   "execution_count": 1,
   "metadata": {
    "ExecuteTime": {
     "end_time": "2019-04-30T00:36:14.397739Z",
     "start_time": "2019-04-30T00:36:13.467826Z"
    }
   },
   "outputs": [],
   "source": [
    "import pandas as pd\n"
   ]
  },
  {
   "cell_type": "code",
   "execution_count": 2,
   "metadata": {
    "ExecuteTime": {
     "end_time": "2019-04-30T00:36:14.471119Z",
     "start_time": "2019-04-30T00:36:14.399952Z"
    }
   },
   "outputs": [],
   "source": [
    "# https://github.com/fivethirtyeight/data/tree/master/polls\n",
    "# https://github.com/fivethirtyeight/data/blob/master/pollster-ratings/2016/raw-polls.csv\n",
    "# https://projects.fivethirtyeight.com/election-2016/national-primary-polls/republican/\n",
    "\n",
    "df = pd.read_csv('../data/president_primary_polls.csv')\n",
    "df2 = pd.read_csv('../data/raw-polls.csv')\n"
   ]
  },
  {
   "cell_type": "code",
   "execution_count": 3,
   "metadata": {
    "ExecuteTime": {
     "end_time": "2019-04-30T00:36:18.033916Z",
     "start_time": "2019-04-30T00:36:17.991923Z"
    }
   },
   "outputs": [
    {
     "data": {
      "text/html": [
       "<div>\n",
       "<style scoped>\n",
       "    .dataframe tbody tr th:only-of-type {\n",
       "        vertical-align: middle;\n",
       "    }\n",
       "\n",
       "    .dataframe tbody tr th {\n",
       "        vertical-align: top;\n",
       "    }\n",
       "\n",
       "    .dataframe thead th {\n",
       "        text-align: right;\n",
       "    }\n",
       "</style>\n",
       "<table border=\"1\" class=\"dataframe\">\n",
       "  <thead>\n",
       "    <tr style=\"text-align: right;\">\n",
       "      <th></th>\n",
       "      <th>question_id</th>\n",
       "      <th>poll_id</th>\n",
       "      <th>cycle</th>\n",
       "      <th>state</th>\n",
       "      <th>pollster_id</th>\n",
       "      <th>pollster</th>\n",
       "      <th>sponsor_ids</th>\n",
       "      <th>sponsors</th>\n",
       "      <th>display_name</th>\n",
       "      <th>pollster_rating_id</th>\n",
       "      <th>...</th>\n",
       "      <th>tracking</th>\n",
       "      <th>nationwide_batch</th>\n",
       "      <th>created_at</th>\n",
       "      <th>notes</th>\n",
       "      <th>url</th>\n",
       "      <th>stage</th>\n",
       "      <th>party</th>\n",
       "      <th>answer</th>\n",
       "      <th>candidate_name</th>\n",
       "      <th>pct</th>\n",
       "    </tr>\n",
       "  </thead>\n",
       "  <tbody>\n",
       "    <tr>\n",
       "      <th>0</th>\n",
       "      <td>94207</td>\n",
       "      <td>57942</td>\n",
       "      <td>2020</td>\n",
       "      <td>NaN</td>\n",
       "      <td>744</td>\n",
       "      <td>Ipsos</td>\n",
       "      <td>71</td>\n",
       "      <td>Reuters</td>\n",
       "      <td>Ipsos</td>\n",
       "      <td>154.0</td>\n",
       "      <td>...</td>\n",
       "      <td>False</td>\n",
       "      <td>False</td>\n",
       "      <td>4/24/19 08:36</td>\n",
       "      <td>NaN</td>\n",
       "      <td>https://fingfx.thomsonreuters.com/gfx/mkt/11/9...</td>\n",
       "      <td>primary</td>\n",
       "      <td>DEM</td>\n",
       "      <td>Biden</td>\n",
       "      <td>Joseph R. Biden Jr.</td>\n",
       "      <td>24.0</td>\n",
       "    </tr>\n",
       "    <tr>\n",
       "      <th>1</th>\n",
       "      <td>94207</td>\n",
       "      <td>57942</td>\n",
       "      <td>2020</td>\n",
       "      <td>NaN</td>\n",
       "      <td>744</td>\n",
       "      <td>Ipsos</td>\n",
       "      <td>71</td>\n",
       "      <td>Reuters</td>\n",
       "      <td>Ipsos</td>\n",
       "      <td>154.0</td>\n",
       "      <td>...</td>\n",
       "      <td>False</td>\n",
       "      <td>False</td>\n",
       "      <td>4/24/19 08:36</td>\n",
       "      <td>NaN</td>\n",
       "      <td>https://fingfx.thomsonreuters.com/gfx/mkt/11/9...</td>\n",
       "      <td>primary</td>\n",
       "      <td>DEM</td>\n",
       "      <td>Harris</td>\n",
       "      <td>Kamala D. Harris</td>\n",
       "      <td>6.0</td>\n",
       "    </tr>\n",
       "    <tr>\n",
       "      <th>2</th>\n",
       "      <td>94207</td>\n",
       "      <td>57942</td>\n",
       "      <td>2020</td>\n",
       "      <td>NaN</td>\n",
       "      <td>744</td>\n",
       "      <td>Ipsos</td>\n",
       "      <td>71</td>\n",
       "      <td>Reuters</td>\n",
       "      <td>Ipsos</td>\n",
       "      <td>154.0</td>\n",
       "      <td>...</td>\n",
       "      <td>False</td>\n",
       "      <td>False</td>\n",
       "      <td>4/24/19 08:36</td>\n",
       "      <td>NaN</td>\n",
       "      <td>https://fingfx.thomsonreuters.com/gfx/mkt/11/9...</td>\n",
       "      <td>primary</td>\n",
       "      <td>DEM</td>\n",
       "      <td>Warren</td>\n",
       "      <td>Elizabeth Warren</td>\n",
       "      <td>5.0</td>\n",
       "    </tr>\n",
       "    <tr>\n",
       "      <th>3</th>\n",
       "      <td>94207</td>\n",
       "      <td>57942</td>\n",
       "      <td>2020</td>\n",
       "      <td>NaN</td>\n",
       "      <td>744</td>\n",
       "      <td>Ipsos</td>\n",
       "      <td>71</td>\n",
       "      <td>Reuters</td>\n",
       "      <td>Ipsos</td>\n",
       "      <td>154.0</td>\n",
       "      <td>...</td>\n",
       "      <td>False</td>\n",
       "      <td>False</td>\n",
       "      <td>4/24/19 08:36</td>\n",
       "      <td>NaN</td>\n",
       "      <td>https://fingfx.thomsonreuters.com/gfx/mkt/11/9...</td>\n",
       "      <td>primary</td>\n",
       "      <td>DEM</td>\n",
       "      <td>Sanders</td>\n",
       "      <td>Bernard Sanders</td>\n",
       "      <td>15.0</td>\n",
       "    </tr>\n",
       "    <tr>\n",
       "      <th>4</th>\n",
       "      <td>94207</td>\n",
       "      <td>57942</td>\n",
       "      <td>2020</td>\n",
       "      <td>NaN</td>\n",
       "      <td>744</td>\n",
       "      <td>Ipsos</td>\n",
       "      <td>71</td>\n",
       "      <td>Reuters</td>\n",
       "      <td>Ipsos</td>\n",
       "      <td>154.0</td>\n",
       "      <td>...</td>\n",
       "      <td>False</td>\n",
       "      <td>False</td>\n",
       "      <td>4/24/19 08:36</td>\n",
       "      <td>NaN</td>\n",
       "      <td>https://fingfx.thomsonreuters.com/gfx/mkt/11/9...</td>\n",
       "      <td>primary</td>\n",
       "      <td>DEM</td>\n",
       "      <td>O'Rourke</td>\n",
       "      <td>Beto O'Rourke</td>\n",
       "      <td>6.0</td>\n",
       "    </tr>\n",
       "  </tbody>\n",
       "</table>\n",
       "<p>5 rows × 32 columns</p>\n",
       "</div>"
      ],
      "text/plain": [
       "   question_id  poll_id  cycle state  pollster_id pollster sponsor_ids  \\\n",
       "0        94207    57942   2020   NaN          744    Ipsos          71   \n",
       "1        94207    57942   2020   NaN          744    Ipsos          71   \n",
       "2        94207    57942   2020   NaN          744    Ipsos          71   \n",
       "3        94207    57942   2020   NaN          744    Ipsos          71   \n",
       "4        94207    57942   2020   NaN          744    Ipsos          71   \n",
       "\n",
       "  sponsors display_name  pollster_rating_id  ... tracking nationwide_batch  \\\n",
       "0  Reuters        Ipsos               154.0  ...    False            False   \n",
       "1  Reuters        Ipsos               154.0  ...    False            False   \n",
       "2  Reuters        Ipsos               154.0  ...    False            False   \n",
       "3  Reuters        Ipsos               154.0  ...    False            False   \n",
       "4  Reuters        Ipsos               154.0  ...    False            False   \n",
       "\n",
       "      created_at notes                                                url  \\\n",
       "0  4/24/19 08:36   NaN  https://fingfx.thomsonreuters.com/gfx/mkt/11/9...   \n",
       "1  4/24/19 08:36   NaN  https://fingfx.thomsonreuters.com/gfx/mkt/11/9...   \n",
       "2  4/24/19 08:36   NaN  https://fingfx.thomsonreuters.com/gfx/mkt/11/9...   \n",
       "3  4/24/19 08:36   NaN  https://fingfx.thomsonreuters.com/gfx/mkt/11/9...   \n",
       "4  4/24/19 08:36   NaN  https://fingfx.thomsonreuters.com/gfx/mkt/11/9...   \n",
       "\n",
       "     stage party    answer       candidate_name   pct  \n",
       "0  primary   DEM     Biden  Joseph R. Biden Jr.  24.0  \n",
       "1  primary   DEM    Harris     Kamala D. Harris   6.0  \n",
       "2  primary   DEM    Warren     Elizabeth Warren   5.0  \n",
       "3  primary   DEM   Sanders      Bernard Sanders  15.0  \n",
       "4  primary   DEM  O'Rourke        Beto O'Rourke   6.0  \n",
       "\n",
       "[5 rows x 32 columns]"
      ]
     },
     "execution_count": 3,
     "metadata": {},
     "output_type": "execute_result"
    }
   ],
   "source": [
    "df.head()\n"
   ]
  },
  {
   "cell_type": "code",
   "execution_count": 5,
   "metadata": {
    "ExecuteTime": {
     "end_time": "2019-04-30T00:37:44.092006Z",
     "start_time": "2019-04-30T00:37:44.087727Z"
    }
   },
   "outputs": [
    {
     "data": {
      "text/plain": [
       "(2231, 32)"
      ]
     },
     "execution_count": 5,
     "metadata": {},
     "output_type": "execute_result"
    }
   ],
   "source": [
    "df.shape"
   ]
  },
  {
   "cell_type": "code",
   "execution_count": null,
   "metadata": {},
   "outputs": [],
   "source": []
  }
 ],
 "metadata": {
  "kernelspec": {
   "display_name": "Python 3",
   "language": "python",
   "name": "python3"
  },
  "language_info": {
   "codemirror_mode": {
    "name": "ipython",
    "version": 3
   },
   "file_extension": ".py",
   "mimetype": "text/x-python",
   "name": "python",
   "nbconvert_exporter": "python",
   "pygments_lexer": "ipython3",
   "version": "3.6.8"
  },
  "toc": {
   "base_numbering": 1,
   "nav_menu": {},
   "number_sections": true,
   "sideBar": true,
   "skip_h1_title": false,
   "title_cell": "Table of Contents",
   "title_sidebar": "Contents",
   "toc_cell": true,
   "toc_position": {},
   "toc_section_display": true,
   "toc_window_display": true
  }
 },
 "nbformat": 4,
 "nbformat_minor": 2
}
